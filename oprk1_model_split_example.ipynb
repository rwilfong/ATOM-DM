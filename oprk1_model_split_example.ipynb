{
 "cells": [
  {
   "cell_type": "markdown",
   "id": "c22f1914-dd85-4e69-aa44-2b4381a9c47a",
   "metadata": {},
   "source": [
    "## Going to focus on OPRK1"
   ]
  },
  {
   "cell_type": "code",
   "execution_count": 1,
   "id": "c6333d71-9756-4010-9cdd-67346175ad1f",
   "metadata": {},
   "outputs": [
    {
     "name": "stderr",
     "output_type": "stream",
     "text": [
      "2021-11-05 00:18:16.156662: W tensorflow/stream_executor/platform/default/dso_loader.cc:64] Could not load dynamic library 'libcudart.so.11.0'; dlerror: libcudart.so.11.0: cannot open shared object file: No such file or directory; LD_LIBRARY_PATH: /apps/spack/brown/apps/proj/5.2.0-gcc-4.8.5-usib7od/lib:/apps/spack/brown/apps/geos/3.7.2-gcc-4.8.5-3vanyva/lib:/apps/spack/brown/apps/gdal/2.4.2-gcc-4.8.5-uj736h3/lib:/apps/spack/brown/apps/netcdf/4.5.0-gcc-6.3.0-d6fczmr/lib:/apps/spack/brown/apps/libtiff/4.0.10-gcc-6.3.0-6p5trqs/lib:/apps/spack/brown/apps/hdf5/1.8.16-gcc-6.3.0-7q7ndrz/lib:/apps/spack/brown/apps/hdf/4.2.14-gcc-6.3.0-2xg7pyg/lib:/scratch/brown/kamstut/tdm/apps/jupyter/kernels/llnl/.venv/lib:/apps/spack/brown/apps/r/4.0.0-gcc-6.3.0-hrvmcqp/rlib/R/lib:/apps/spack/brown/apps/openblas/0.3.7-gcc-6.3.0-qk24sho/lib:/apps/spack/brown/apps/tk/8.6.8-gcc-6.3.0-6qaesqb/lib:/apps/spack/brown/apps/tcl/8.6.8-gcc-6.3.0-n6mxabo/lib:/apps/spack/brown/apps/zlib/1.2.11-gcc-4.8.5-pkmj6e7/lib:/apps/spack/brown/apps/gcc/6.3.0-gcc-4.8.5-234aoxy/lib64:/apps/spack/brown/apps/gcc/6.3.0-gcc-4.8.5-234aoxy/lib:/apps/spack/brown/apps/mpc/1.1.0-gcc-4.8.5-eogmmao/lib:/apps/spack/brown/apps/mpfr/3.1.6-gcc-4.8.5-nsgsjfy/lib:/apps/spack/brown/apps/gmp/6.1.2-gcc-4.8.5-zn55wh7/lib:/scratch/brown/kamstut/tdm/opt/libffi-3.4.2/build/lib64:/usr/lib64\n",
      "2021-11-05 00:18:16.156708: I tensorflow/stream_executor/cuda/cudart_stub.cc:29] Ignore above cudart dlerror if you do not have a GPU set up on your machine.\n",
      "WARNING: You are using pip version 21.2.4; however, version 21.3.1 is available.\n",
      "You should consider upgrading via the '/scratch/brown/kamstut/tdm/apps/jupyter/kernels/llnl/.venv/bin/python -m pip install --upgrade pip' command.\n",
      "2021-11-05 00:18:28,786 Model tracker client not supported in your environment; will save models in filesystem only.\n"
     ]
    }
   ],
   "source": [
    "# Library time \n",
    "import pandas as pd\n",
    "import numpy as np\n",
    "import atomsci.ddm.pipeline.model_pipeline as mp\n",
    "import atomsci.ddm.pipeline.parameter_parser as parse\n",
    "import atomsci.ddm.utils.curate_data as curate_data\n",
    "import atomsci.ddm.utils.struct_utils as struct_utils\n",
    "from atomsci.ddm.pipeline import perf_plots as pp"
   ]
  },
  {
   "cell_type": "markdown",
   "id": "faeee750-7b9c-4467-a45d-43b695bbb94a",
   "metadata": {},
   "source": [
    "### First, let me split our dataset"
   ]
  },
  {
   "cell_type": "code",
   "execution_count": 25,
   "id": "52d921ad-35f3-4cef-b567-3438b0c04759",
   "metadata": {},
   "outputs": [],
   "source": [
    "ddir='/home/rwilfong/' # input directory \n",
    "file3=ddir+'OPRK1.csv' #file is the input directory plus the csv\n",
    "# add a \"compound_id\" column that is a numerical counter and rename the old compound_id column as SMILES then save new file.\n",
    "df=pd.read_csv(file3)\n",
    "df.rename(columns={'compound_id' : 'SMILES'},inplace=True)\n",
    "df['compound_id']=df.index\n",
    "ofile=ddir+'mod_OPRK1.csv'\n",
    "df.to_csv(ofile,index=False)\n",
    "train_file=ofile\n",
    "# now run splitter on modified file.\n",
    "response_col = \"target_OPRK1_standard_value\"\n",
    "compound_id = \"compound_id\"\n",
    "smiles_col = \"SMILES\"\n",
    "params = {\n",
    "        \"system\": \"LC\",\n",
    "        \"lc_account\": 'None',\n",
    "        \"datastore\": \"False\",\n",
    "        \"save_results\": \"False\",\n",
    "        \"dataset_key\": train_file,\n",
    "        \"id_col\": compound_id,\n",
    "        \"smiles_col\": smiles_col,\n",
    "        \"previously_split\": \"False\",\n",
    "        \"split_only\": \"True\",\n",
    "        \"featurizer\": \"ecfp\",\n",
    "        \"verbose\": \"True\",\n",
    "        \"response_cols\" : response_col,\n",
    "        \"transformers\": \"True\",\n",
    "        \"rerun\": \"False\",\n",
    "        \"result_dir\": \"split\",\n",
    "        \"split_valid_frac\": \"0.10\",           #fraction reserved for the validation set\n",
    "        \"split_test_frac\": \"0.10\"             #fraction reserved for the test set\n",
    "    }\n"
   ]
  },
  {
   "cell_type": "code",
   "execution_count": 26,
   "id": "0087b195-4e61-4f9f-b329-f2a7fb943e0d",
   "metadata": {},
   "outputs": [],
   "source": [
    "ampl_param = parse.wrapper(params)"
   ]
  },
  {
   "cell_type": "code",
   "execution_count": 27,
   "id": "abd13036-b7a4-4818-83c1-dba8d4ffa92e",
   "metadata": {},
   "outputs": [],
   "source": [
    "pl = mp.ModelPipeline(ampl_param)"
   ]
  },
  {
   "cell_type": "code",
   "execution_count": 28,
   "id": "56ce88db-849b-485b-b158-c95e9dcee120",
   "metadata": {},
   "outputs": [
    {
     "name": "stderr",
     "output_type": "stream",
     "text": [
      "2021-11-05 00:32:43,193 Attempting to load featurized dataset\n",
      "2021-11-05 00:32:43,244 Exception when trying to load featurized data:\n",
      "DynamicFeaturization doesn't support get_featurized_dset_name()\n",
      "2021-11-05 00:32:43,247 Featurized dataset not previously saved for dataset mod_OPRK1, creating new\n",
      "2021-11-05 00:32:43,337 Featurizing sample 0\n",
      "2021-11-05 00:32:46,389 Featurizing sample 1000\n",
      "2021-11-05 00:32:49,411 Featurizing sample 2000\n",
      "2021-11-05 00:32:52,428 Featurizing sample 3000\n",
      "2021-11-05 00:32:55,465 Featurizing sample 4000\n",
      "2021-11-05 00:32:58,499 Featurizing sample 5000\n",
      "2021-11-05 00:33:01,512 Featurizing sample 6000\n",
      "2021-11-05 00:33:04,657 Featurizing sample 7000\n",
      "2021-11-05 00:33:07,734 Featurizing sample 8000\n",
      "2021-11-05 00:33:10,589 Splitting data by scaffold\n"
     ]
    },
    {
     "name": "stdout",
     "output_type": "stream",
     "text": [
      "number of features: 1024\n"
     ]
    },
    {
     "name": "stderr",
     "output_type": "stream",
     "text": [
      "2021-11-05 00:33:16,605 Dataset split table saved to /home/rwilfong/mod_OPRK1_train_valid_test_scaffold_f5ac1b84-c990-43a0-8046-19173f0de54c.csv\n"
     ]
    }
   ],
   "source": [
    "save=pl.split_dataset()"
   ]
  },
  {
   "cell_type": "code",
   "execution_count": 29,
   "id": "adc24fc6-533a-4c28-b710-ab95b962a8db",
   "metadata": {},
   "outputs": [
    {
     "name": "stdout",
     "output_type": "stream",
     "text": [
      "f5ac1b84-c990-43a0-8046-19173f0de54c\n"
     ]
    }
   ],
   "source": [
    "print(save) "
   ]
  },
  {
   "cell_type": "code",
   "execution_count": 30,
   "id": "82c06086-b82c-4213-b8d6-2fd0ff7db251",
   "metadata": {},
   "outputs": [],
   "source": [
    "split_uuid = 'f5ac1b84-c990-43a0-8046-19173f0de54c'"
   ]
  },
  {
   "cell_type": "markdown",
   "id": "55827fdc-664e-4d97-a9da-6e49e7736824",
   "metadata": {},
   "source": [
    "### Okay cool, now we have our split dataset for OPRK1!"
   ]
  },
  {
   "cell_type": "markdown",
   "id": "1d34159c-87b9-423a-9da4-b9fd7fcbdfcd",
   "metadata": {},
   "source": [
    "My CSV file is `mod_OPRK1_train_valid_test_scaffold_f5ac1b84-c990-43a0-8046-19173f0de54c`\n",
    "\n",
    "And my split ID is **f5ac1b84-c990-43a0-8046-19173f0de54c**\n",
    "\n",
    "The scaffold portion in front just indicates the type of split performed. In this case, we used a scaffold split"
   ]
  },
  {
   "cell_type": "markdown",
   "id": "8a695cdc-127c-4593-aa32-687b188ec874",
   "metadata": {},
   "source": [
    "### Let's make a graph convolutional neural network for OPRK1"
   ]
  },
  {
   "cell_type": "code",
   "execution_count": 65,
   "id": "01d8ba10-6e52-4bda-a6ff-b9f3771d7669",
   "metadata": {},
   "outputs": [],
   "source": [
    "split_uuid = '/home/rwilfong/mod_OPRK1_train_valid_test_scaffold_f5ac1b84-c990-43a0-8046-19173f0de54c.csv'\n",
    "response_col = \"target_OPRK1_standard_value\"\n",
    "train_file = '/home/rwilfong/mod_OPRK1.csv'\n",
    "compound_id = \"compound_id\"\n",
    "smiles_col = \"SMILES\"\n",
    "\n",
    "\n",
    "train_config = {\n",
    "    \"script_dir\": \"/home/rwilfong/\",\n",
    "    \"dataset_key\" : train_file,\n",
    "    \"datastore\": \"False\",\n",
    "    \"uncertainty\": \"False\",\n",
    "    \"splitter\": \"scaffold\",\n",
    "    \"split_valid_frac\": \"0.10\",\n",
    "    \"split_test_frac\": \"0.10\",\n",
    "    \"previously_split\": \"True\",\n",
    "    \"split_uuid\": split_uuid,\n",
    "    \"prediction_type\": \"regression\",\n",
    "    \"response_cols\" : response_col,\n",
    "    \"id_col\": compound_id,\n",
    "    \"smiles_col\" : smiles_col,\n",
    "    \"result_dir\": \"/home/rwilfong/ATOM/opioid/\",\n",
    "    \"system\": \"LC\",\n",
    "    \"transformers\": \"True\",\n",
    "    \"model_type\": \"NN\",\n",
    "    \"featurizer\": \"graphconv\",\n",
    "    \"descriptor_type\": \"graphconv\",\n",
    "    \"learning_rate\": \"0.0007\",\n",
    "    \"layer_sizes\": \"64,64,32\",\n",
    "    \"dropouts\" : \"0.0,0.0,0.0\",\n",
    "    \"save_results\": \"False\",\n",
    "    \"max_epochs\": \"100\",\n",
    "    \"verbose\": \"True\"\n",
    "}"
   ]
  },
  {
   "cell_type": "code",
   "execution_count": 66,
   "id": "d7af38a7-8a44-429d-8ce4-74bc24b469c5",
   "metadata": {
    "tags": []
   },
   "outputs": [],
   "source": [
    "train_params = parse.wrapper(train_config)"
   ]
  },
  {
   "cell_type": "code",
   "execution_count": 67,
   "id": "5f79e5db-57b1-4187-afdf-27ffdaa49cda",
   "metadata": {
    "tags": []
   },
   "outputs": [],
   "source": [
    "train_model = mp.ModelPipeline(train_params)"
   ]
  },
  {
   "cell_type": "code",
   "execution_count": 68,
   "id": "7707a8c6-b472-493c-a13a-08242a1b0fff",
   "metadata": {},
   "outputs": [
    {
     "name": "stderr",
     "output_type": "stream",
     "text": [
      "2021-11-05 01:20:24,089 Attempting to load featurized dataset\n",
      "2021-11-05 01:20:25,098 Exception when trying to load featurized data:\n",
      "DynamicFeaturization doesn't support get_featurized_dset_name()\n",
      "2021-11-05 01:20:25,103 Featurized dataset not previously saved for dataset mod_OPRK1, creating new\n",
      "2021-11-05 01:20:31,707 Featurizing sample 0\n",
      "2021-11-05 01:20:35,452 Featurizing sample 1000\n",
      "2021-11-05 01:20:38,378 Featurizing sample 2000\n",
      "2021-11-05 01:20:41,302 Featurizing sample 3000\n",
      "2021-11-05 01:20:44,258 Featurizing sample 4000\n",
      "2021-11-05 01:20:47,187 Featurizing sample 5000\n",
      "2021-11-05 01:20:52,679 Featurizing sample 6000\n",
      "2021-11-05 01:20:56,029 Featurizing sample 7000\n",
      "2021-11-05 01:20:59,126 Featurizing sample 8000\n"
     ]
    },
    {
     "name": "stdout",
     "output_type": "stream",
     "text": [
      "number of features: 75\n"
     ]
    },
    {
     "name": "stderr",
     "output_type": "stream",
     "text": [
      "2021-11-05 01:21:03,935 Error when loading dataset split table:\n",
      "[Errno 2] No such file or directory: '/home/rwilfong/mod_OPRK1_train_valid_test_scaffold_/home/rwilfong/mod_OPRK1_train_valid_test_scaffold_f5ac1b84-c990-43a0-8046-19173f0de54c.csv.csv'\n",
      "2021-11-05 01:21:03,938 Splitting data by scaffold\n",
      "2021-11-05 01:21:18,999 Dataset split table saved to /home/rwilfong/mod_OPRK1_train_valid_test_scaffold_90562095-97fd-49cd-9b6b-797bfe313af0.csv\n",
      "2021-11-05 01:21:19,090 Wrote transformers to /home/rwilfong/ATOM/opioid/mod_OPRK1/NN_graphconv_scaffold_regression/d0a06489-d683-4492-863e-2aa5e0a808ca/transformers.pkl\n",
      "2021-11-05 01:21:19,091 Transforming response data\n",
      "2021-11-05 01:21:21,304 Transforming response data\n",
      "2021-11-05 01:21:21,607 Transforming response data\n",
      "/scratch/brown/kamstut/tdm/apps/jupyter/kernels/llnl/.venv/lib/python3.9/site-packages/tensorflow/python/framework/indexed_slices.py:447: UserWarning: Converting sparse IndexedSlices(IndexedSlices(indices=Tensor(\"gradient_tape/private__graph_conv_keras_model_8/graph_pool_17/Reshape_14:0\", shape=(250,), dtype=int32), values=Tensor(\"gradient_tape/private__graph_conv_keras_model_8/graph_pool_17/Reshape_13:0\", shape=(250, 64), dtype=float32), dense_shape=Tensor(\"gradient_tape/private__graph_conv_keras_model_8/graph_pool_17/Cast_4:0\", shape=(2,), dtype=int32))) to a dense Tensor of unknown shape. This may consume a large amount of memory.\n",
      "  warnings.warn(\n",
      "/scratch/brown/kamstut/tdm/apps/jupyter/kernels/llnl/.venv/lib/python3.9/site-packages/tensorflow/python/framework/indexed_slices.py:447: UserWarning: Converting sparse IndexedSlices(IndexedSlices(indices=Tensor(\"gradient_tape/private__graph_conv_keras_model_8/graph_pool_17/Reshape_17:0\", shape=(1732,), dtype=int32), values=Tensor(\"gradient_tape/private__graph_conv_keras_model_8/graph_pool_17/Reshape_16:0\", shape=(1732, 64), dtype=float32), dense_shape=Tensor(\"gradient_tape/private__graph_conv_keras_model_8/graph_pool_17/Cast_5:0\", shape=(2,), dtype=int32))) to a dense Tensor of unknown shape. This may consume a large amount of memory.\n",
      "  warnings.warn(\n",
      "/scratch/brown/kamstut/tdm/apps/jupyter/kernels/llnl/.venv/lib/python3.9/site-packages/tensorflow/python/framework/indexed_slices.py:447: UserWarning: Converting sparse IndexedSlices(IndexedSlices(indices=Tensor(\"gradient_tape/private__graph_conv_keras_model_8/graph_pool_17/Reshape_20:0\", shape=(1578,), dtype=int32), values=Tensor(\"gradient_tape/private__graph_conv_keras_model_8/graph_pool_17/Reshape_19:0\", shape=(1578, 64), dtype=float32), dense_shape=Tensor(\"gradient_tape/private__graph_conv_keras_model_8/graph_pool_17/Cast_6:0\", shape=(2,), dtype=int32))) to a dense Tensor of unknown shape. This may consume a large amount of memory.\n",
      "  warnings.warn(\n",
      "/scratch/brown/kamstut/tdm/apps/jupyter/kernels/llnl/.venv/lib/python3.9/site-packages/tensorflow/python/framework/indexed_slices.py:447: UserWarning: Converting sparse IndexedSlices(IndexedSlices(indices=Tensor(\"gradient_tape/private__graph_conv_keras_model_8/graph_pool_17/Reshape_23:0\", shape=(196,), dtype=int32), values=Tensor(\"gradient_tape/private__graph_conv_keras_model_8/graph_pool_17/Reshape_22:0\", shape=(196, 64), dtype=float32), dense_shape=Tensor(\"gradient_tape/private__graph_conv_keras_model_8/graph_pool_17/Cast_7:0\", shape=(2,), dtype=int32))) to a dense Tensor of unknown shape. This may consume a large amount of memory.\n",
      "  warnings.warn(\n",
      "/scratch/brown/kamstut/tdm/apps/jupyter/kernels/llnl/.venv/lib/python3.9/site-packages/tensorflow/python/framework/indexed_slices.py:447: UserWarning: Converting sparse IndexedSlices(IndexedSlices(indices=Tensor(\"gradient_tape/private__graph_conv_keras_model_8/graph_conv_17/Reshape_11:0\", shape=(250,), dtype=int32), values=Tensor(\"gradient_tape/private__graph_conv_keras_model_8/graph_conv_17/Reshape_10:0\", shape=(250, 64), dtype=float32), dense_shape=Tensor(\"gradient_tape/private__graph_conv_keras_model_8/graph_conv_17/Cast:0\", shape=(2,), dtype=int32))) to a dense Tensor of unknown shape. This may consume a large amount of memory.\n",
      "  warnings.warn(\n",
      "/scratch/brown/kamstut/tdm/apps/jupyter/kernels/llnl/.venv/lib/python3.9/site-packages/tensorflow/python/framework/indexed_slices.py:447: UserWarning: Converting sparse IndexedSlices(IndexedSlices(indices=Tensor(\"gradient_tape/private__graph_conv_keras_model_8/graph_conv_17/Reshape_13:0\", shape=(1732,), dtype=int32), values=Tensor(\"gradient_tape/private__graph_conv_keras_model_8/graph_conv_17/Reshape_12:0\", shape=(1732, 64), dtype=float32), dense_shape=Tensor(\"gradient_tape/private__graph_conv_keras_model_8/graph_conv_17/Cast_1:0\", shape=(2,), dtype=int32))) to a dense Tensor of unknown shape. This may consume a large amount of memory.\n",
      "  warnings.warn(\n",
      "/scratch/brown/kamstut/tdm/apps/jupyter/kernels/llnl/.venv/lib/python3.9/site-packages/tensorflow/python/framework/indexed_slices.py:447: UserWarning: Converting sparse IndexedSlices(IndexedSlices(indices=Tensor(\"gradient_tape/private__graph_conv_keras_model_8/graph_conv_17/Reshape_15:0\", shape=(1578,), dtype=int32), values=Tensor(\"gradient_tape/private__graph_conv_keras_model_8/graph_conv_17/Reshape_14:0\", shape=(1578, 64), dtype=float32), dense_shape=Tensor(\"gradient_tape/private__graph_conv_keras_model_8/graph_conv_17/Cast_2:0\", shape=(2,), dtype=int32))) to a dense Tensor of unknown shape. This may consume a large amount of memory.\n",
      "  warnings.warn(\n",
      "/scratch/brown/kamstut/tdm/apps/jupyter/kernels/llnl/.venv/lib/python3.9/site-packages/tensorflow/python/framework/indexed_slices.py:447: UserWarning: Converting sparse IndexedSlices(IndexedSlices(indices=Tensor(\"gradient_tape/private__graph_conv_keras_model_8/graph_conv_17/Reshape_17:0\", shape=(196,), dtype=int32), values=Tensor(\"gradient_tape/private__graph_conv_keras_model_8/graph_conv_17/Reshape_16:0\", shape=(196, 64), dtype=float32), dense_shape=Tensor(\"gradient_tape/private__graph_conv_keras_model_8/graph_conv_17/Cast_3:0\", shape=(2,), dtype=int32))) to a dense Tensor of unknown shape. This may consume a large amount of memory.\n",
      "  warnings.warn(\n",
      "/scratch/brown/kamstut/tdm/apps/jupyter/kernels/llnl/.venv/lib/python3.9/site-packages/tensorflow/python/framework/indexed_slices.py:447: UserWarning: Converting sparse IndexedSlices(IndexedSlices(indices=Tensor(\"gradient_tape/private__graph_conv_keras_model_8/graph_conv_17/Reshape_19:0\", shape=(0,), dtype=int32), values=Tensor(\"gradient_tape/private__graph_conv_keras_model_8/graph_conv_17/Reshape_18:0\", shape=(0, 64), dtype=float32), dense_shape=Tensor(\"gradient_tape/private__graph_conv_keras_model_8/graph_conv_17/Cast_4:0\", shape=(2,), dtype=int32))) to a dense Tensor of unknown shape. This may consume a large amount of memory.\n",
      "  warnings.warn(\n",
      "/scratch/brown/kamstut/tdm/apps/jupyter/kernels/llnl/.venv/lib/python3.9/site-packages/tensorflow/python/framework/indexed_slices.py:447: UserWarning: Converting sparse IndexedSlices(IndexedSlices(indices=Tensor(\"gradient_tape/private__graph_conv_keras_model_8/graph_conv_17/Reshape_21:0\", shape=(0,), dtype=int32), values=Tensor(\"gradient_tape/private__graph_conv_keras_model_8/graph_conv_17/Reshape_20:0\", shape=(0, 64), dtype=float32), dense_shape=Tensor(\"gradient_tape/private__graph_conv_keras_model_8/graph_conv_17/Cast_5:0\", shape=(2,), dtype=int32))) to a dense Tensor of unknown shape. This may consume a large amount of memory.\n",
      "  warnings.warn(\n",
      "/scratch/brown/kamstut/tdm/apps/jupyter/kernels/llnl/.venv/lib/python3.9/site-packages/tensorflow/python/framework/indexed_slices.py:447: UserWarning: Converting sparse IndexedSlices(IndexedSlices(indices=Tensor(\"gradient_tape/private__graph_conv_keras_model_8/graph_conv_17/Reshape_23:0\", shape=(0,), dtype=int32), values=Tensor(\"gradient_tape/private__graph_conv_keras_model_8/graph_conv_17/Reshape_22:0\", shape=(0, 64), dtype=float32), dense_shape=Tensor(\"gradient_tape/private__graph_conv_keras_model_8/graph_conv_17/Cast_6:0\", shape=(2,), dtype=int32))) to a dense Tensor of unknown shape. This may consume a large amount of memory.\n",
      "  warnings.warn(\n",
      "/scratch/brown/kamstut/tdm/apps/jupyter/kernels/llnl/.venv/lib/python3.9/site-packages/tensorflow/python/framework/indexed_slices.py:447: UserWarning: Converting sparse IndexedSlices(IndexedSlices(indices=Tensor(\"gradient_tape/private__graph_conv_keras_model_8/graph_conv_17/Reshape_25:0\", shape=(0,), dtype=int32), values=Tensor(\"gradient_tape/private__graph_conv_keras_model_8/graph_conv_17/Reshape_24:0\", shape=(0, 64), dtype=float32), dense_shape=Tensor(\"gradient_tape/private__graph_conv_keras_model_8/graph_conv_17/Cast_7:0\", shape=(2,), dtype=int32))) to a dense Tensor of unknown shape. This may consume a large amount of memory.\n",
      "  warnings.warn(\n",
      "/scratch/brown/kamstut/tdm/apps/jupyter/kernels/llnl/.venv/lib/python3.9/site-packages/tensorflow/python/framework/indexed_slices.py:447: UserWarning: Converting sparse IndexedSlices(IndexedSlices(indices=Tensor(\"gradient_tape/private__graph_conv_keras_model_8/graph_conv_17/Reshape_27:0\", shape=(0,), dtype=int32), values=Tensor(\"gradient_tape/private__graph_conv_keras_model_8/graph_conv_17/Reshape_26:0\", shape=(0, 64), dtype=float32), dense_shape=Tensor(\"gradient_tape/private__graph_conv_keras_model_8/graph_conv_17/Cast_8:0\", shape=(2,), dtype=int32))) to a dense Tensor of unknown shape. This may consume a large amount of memory.\n",
      "  warnings.warn(\n",
      "/scratch/brown/kamstut/tdm/apps/jupyter/kernels/llnl/.venv/lib/python3.9/site-packages/tensorflow/python/framework/indexed_slices.py:447: UserWarning: Converting sparse IndexedSlices(IndexedSlices(indices=Tensor(\"gradient_tape/private__graph_conv_keras_model_8/graph_conv_17/Reshape_29:0\", shape=(0,), dtype=int32), values=Tensor(\"gradient_tape/private__graph_conv_keras_model_8/graph_conv_17/Reshape_28:0\", shape=(0, 64), dtype=float32), dense_shape=Tensor(\"gradient_tape/private__graph_conv_keras_model_8/graph_conv_17/Cast_9:0\", shape=(2,), dtype=int32))) to a dense Tensor of unknown shape. This may consume a large amount of memory.\n",
      "  warnings.warn(\n",
      "/scratch/brown/kamstut/tdm/apps/jupyter/kernels/llnl/.venv/lib/python3.9/site-packages/tensorflow/python/framework/indexed_slices.py:447: UserWarning: Converting sparse IndexedSlices(IndexedSlices(indices=Tensor(\"gradient_tape/private__graph_conv_keras_model_8/graph_pool_16/Reshape_14:0\", shape=(250,), dtype=int32), values=Tensor(\"gradient_tape/private__graph_conv_keras_model_8/graph_pool_16/Reshape_13:0\", shape=(250, 64), dtype=float32), dense_shape=Tensor(\"gradient_tape/private__graph_conv_keras_model_8/graph_pool_16/Cast_4:0\", shape=(2,), dtype=int32))) to a dense Tensor of unknown shape. This may consume a large amount of memory.\n",
      "  warnings.warn(\n",
      "/scratch/brown/kamstut/tdm/apps/jupyter/kernels/llnl/.venv/lib/python3.9/site-packages/tensorflow/python/framework/indexed_slices.py:447: UserWarning: Converting sparse IndexedSlices(IndexedSlices(indices=Tensor(\"gradient_tape/private__graph_conv_keras_model_8/graph_pool_16/Reshape_17:0\", shape=(1732,), dtype=int32), values=Tensor(\"gradient_tape/private__graph_conv_keras_model_8/graph_pool_16/Reshape_16:0\", shape=(1732, 64), dtype=float32), dense_shape=Tensor(\"gradient_tape/private__graph_conv_keras_model_8/graph_pool_16/Cast_5:0\", shape=(2,), dtype=int32))) to a dense Tensor of unknown shape. This may consume a large amount of memory.\n",
      "  warnings.warn(\n",
      "/scratch/brown/kamstut/tdm/apps/jupyter/kernels/llnl/.venv/lib/python3.9/site-packages/tensorflow/python/framework/indexed_slices.py:447: UserWarning: Converting sparse IndexedSlices(IndexedSlices(indices=Tensor(\"gradient_tape/private__graph_conv_keras_model_8/graph_pool_16/Reshape_20:0\", shape=(1578,), dtype=int32), values=Tensor(\"gradient_tape/private__graph_conv_keras_model_8/graph_pool_16/Reshape_19:0\", shape=(1578, 64), dtype=float32), dense_shape=Tensor(\"gradient_tape/private__graph_conv_keras_model_8/graph_pool_16/Cast_6:0\", shape=(2,), dtype=int32))) to a dense Tensor of unknown shape. This may consume a large amount of memory.\n",
      "  warnings.warn(\n",
      "/scratch/brown/kamstut/tdm/apps/jupyter/kernels/llnl/.venv/lib/python3.9/site-packages/tensorflow/python/framework/indexed_slices.py:447: UserWarning: Converting sparse IndexedSlices(IndexedSlices(indices=Tensor(\"gradient_tape/private__graph_conv_keras_model_8/graph_pool_16/Reshape_23:0\", shape=(196,), dtype=int32), values=Tensor(\"gradient_tape/private__graph_conv_keras_model_8/graph_pool_16/Reshape_22:0\", shape=(196, 64), dtype=float32), dense_shape=Tensor(\"gradient_tape/private__graph_conv_keras_model_8/graph_pool_16/Cast_7:0\", shape=(2,), dtype=int32))) to a dense Tensor of unknown shape. This may consume a large amount of memory.\n",
      "  warnings.warn(\n",
      "2021-11-05 01:21:34.200299: I tensorflow/compiler/mlir/mlir_graph_optimization_pass.cc:185] None of the MLIR Optimization Passes are enabled (registered 2)\n",
      "/scratch/brown/kamstut/tdm/apps/jupyter/kernels/llnl/.venv/lib/python3.9/site-packages/tensorflow/python/framework/indexed_slices.py:447: UserWarning: Converting sparse IndexedSlices(IndexedSlices(indices=Tensor(\"gradient_tape/private__graph_conv_keras_model_8/graph_pool_17/Reshape_14:0\", shape=(246,), dtype=int32), values=Tensor(\"gradient_tape/private__graph_conv_keras_model_8/graph_pool_17/Reshape_13:0\", shape=(246, 64), dtype=float32), dense_shape=Tensor(\"gradient_tape/private__graph_conv_keras_model_8/graph_pool_17/Cast_4:0\", shape=(2,), dtype=int32))) to a dense Tensor of unknown shape. This may consume a large amount of memory.\n",
      "  warnings.warn(\n",
      "/scratch/brown/kamstut/tdm/apps/jupyter/kernels/llnl/.venv/lib/python3.9/site-packages/tensorflow/python/framework/indexed_slices.py:447: UserWarning: Converting sparse IndexedSlices(IndexedSlices(indices=Tensor(\"gradient_tape/private__graph_conv_keras_model_8/graph_pool_17/Reshape_17:0\", shape=(1634,), dtype=int32), values=Tensor(\"gradient_tape/private__graph_conv_keras_model_8/graph_pool_17/Reshape_16:0\", shape=(1634, 64), dtype=float32), dense_shape=Tensor(\"gradient_tape/private__graph_conv_keras_model_8/graph_pool_17/Cast_5:0\", shape=(2,), dtype=int32))) to a dense Tensor of unknown shape. This may consume a large amount of memory.\n",
      "  warnings.warn(\n",
      "/scratch/brown/kamstut/tdm/apps/jupyter/kernels/llnl/.venv/lib/python3.9/site-packages/tensorflow/python/framework/indexed_slices.py:447: UserWarning: Converting sparse IndexedSlices(IndexedSlices(indices=Tensor(\"gradient_tape/private__graph_conv_keras_model_8/graph_pool_17/Reshape_20:0\", shape=(1476,), dtype=int32), values=Tensor(\"gradient_tape/private__graph_conv_keras_model_8/graph_pool_17/Reshape_19:0\", shape=(1476, 64), dtype=float32), dense_shape=Tensor(\"gradient_tape/private__graph_conv_keras_model_8/graph_pool_17/Cast_6:0\", shape=(2,), dtype=int32))) to a dense Tensor of unknown shape. This may consume a large amount of memory.\n",
      "  warnings.warn(\n",
      "/scratch/brown/kamstut/tdm/apps/jupyter/kernels/llnl/.venv/lib/python3.9/site-packages/tensorflow/python/framework/indexed_slices.py:447: UserWarning: Converting sparse IndexedSlices(IndexedSlices(indices=Tensor(\"gradient_tape/private__graph_conv_keras_model_8/graph_pool_17/Reshape_23:0\", shape=(236,), dtype=int32), values=Tensor(\"gradient_tape/private__graph_conv_keras_model_8/graph_pool_17/Reshape_22:0\", shape=(236, 64), dtype=float32), dense_shape=Tensor(\"gradient_tape/private__graph_conv_keras_model_8/graph_pool_17/Cast_7:0\", shape=(2,), dtype=int32))) to a dense Tensor of unknown shape. This may consume a large amount of memory.\n",
      "  warnings.warn(\n",
      "/scratch/brown/kamstut/tdm/apps/jupyter/kernels/llnl/.venv/lib/python3.9/site-packages/tensorflow/python/framework/indexed_slices.py:447: UserWarning: Converting sparse IndexedSlices(IndexedSlices(indices=Tensor(\"gradient_tape/private__graph_conv_keras_model_8/graph_conv_17/Reshape_11:0\", shape=(246,), dtype=int32), values=Tensor(\"gradient_tape/private__graph_conv_keras_model_8/graph_conv_17/Reshape_10:0\", shape=(246, 64), dtype=float32), dense_shape=Tensor(\"gradient_tape/private__graph_conv_keras_model_8/graph_conv_17/Cast:0\", shape=(2,), dtype=int32))) to a dense Tensor of unknown shape. This may consume a large amount of memory.\n",
      "  warnings.warn(\n",
      "/scratch/brown/kamstut/tdm/apps/jupyter/kernels/llnl/.venv/lib/python3.9/site-packages/tensorflow/python/framework/indexed_slices.py:447: UserWarning: Converting sparse IndexedSlices(IndexedSlices(indices=Tensor(\"gradient_tape/private__graph_conv_keras_model_8/graph_conv_17/Reshape_13:0\", shape=(1634,), dtype=int32), values=Tensor(\"gradient_tape/private__graph_conv_keras_model_8/graph_conv_17/Reshape_12:0\", shape=(1634, 64), dtype=float32), dense_shape=Tensor(\"gradient_tape/private__graph_conv_keras_model_8/graph_conv_17/Cast_1:0\", shape=(2,), dtype=int32))) to a dense Tensor of unknown shape. This may consume a large amount of memory.\n",
      "  warnings.warn(\n",
      "/scratch/brown/kamstut/tdm/apps/jupyter/kernels/llnl/.venv/lib/python3.9/site-packages/tensorflow/python/framework/indexed_slices.py:447: UserWarning: Converting sparse IndexedSlices(IndexedSlices(indices=Tensor(\"gradient_tape/private__graph_conv_keras_model_8/graph_conv_17/Reshape_15:0\", shape=(1476,), dtype=int32), values=Tensor(\"gradient_tape/private__graph_conv_keras_model_8/graph_conv_17/Reshape_14:0\", shape=(1476, 64), dtype=float32), dense_shape=Tensor(\"gradient_tape/private__graph_conv_keras_model_8/graph_conv_17/Cast_2:0\", shape=(2,), dtype=int32))) to a dense Tensor of unknown shape. This may consume a large amount of memory.\n",
      "  warnings.warn(\n",
      "/scratch/brown/kamstut/tdm/apps/jupyter/kernels/llnl/.venv/lib/python3.9/site-packages/tensorflow/python/framework/indexed_slices.py:447: UserWarning: Converting sparse IndexedSlices(IndexedSlices(indices=Tensor(\"gradient_tape/private__graph_conv_keras_model_8/graph_conv_17/Reshape_17:0\", shape=(236,), dtype=int32), values=Tensor(\"gradient_tape/private__graph_conv_keras_model_8/graph_conv_17/Reshape_16:0\", shape=(236, 64), dtype=float32), dense_shape=Tensor(\"gradient_tape/private__graph_conv_keras_model_8/graph_conv_17/Cast_3:0\", shape=(2,), dtype=int32))) to a dense Tensor of unknown shape. This may consume a large amount of memory.\n",
      "  warnings.warn(\n",
      "/scratch/brown/kamstut/tdm/apps/jupyter/kernels/llnl/.venv/lib/python3.9/site-packages/tensorflow/python/framework/indexed_slices.py:447: UserWarning: Converting sparse IndexedSlices(IndexedSlices(indices=Tensor(\"gradient_tape/private__graph_conv_keras_model_8/graph_pool_16/Reshape_14:0\", shape=(246,), dtype=int32), values=Tensor(\"gradient_tape/private__graph_conv_keras_model_8/graph_pool_16/Reshape_13:0\", shape=(246, 64), dtype=float32), dense_shape=Tensor(\"gradient_tape/private__graph_conv_keras_model_8/graph_pool_16/Cast_4:0\", shape=(2,), dtype=int32))) to a dense Tensor of unknown shape. This may consume a large amount of memory.\n",
      "  warnings.warn(\n",
      "/scratch/brown/kamstut/tdm/apps/jupyter/kernels/llnl/.venv/lib/python3.9/site-packages/tensorflow/python/framework/indexed_slices.py:447: UserWarning: Converting sparse IndexedSlices(IndexedSlices(indices=Tensor(\"gradient_tape/private__graph_conv_keras_model_8/graph_pool_16/Reshape_17:0\", shape=(1634,), dtype=int32), values=Tensor(\"gradient_tape/private__graph_conv_keras_model_8/graph_pool_16/Reshape_16:0\", shape=(1634, 64), dtype=float32), dense_shape=Tensor(\"gradient_tape/private__graph_conv_keras_model_8/graph_pool_16/Cast_5:0\", shape=(2,), dtype=int32))) to a dense Tensor of unknown shape. This may consume a large amount of memory.\n",
      "  warnings.warn(\n",
      "/scratch/brown/kamstut/tdm/apps/jupyter/kernels/llnl/.venv/lib/python3.9/site-packages/tensorflow/python/framework/indexed_slices.py:447: UserWarning: Converting sparse IndexedSlices(IndexedSlices(indices=Tensor(\"gradient_tape/private__graph_conv_keras_model_8/graph_pool_16/Reshape_20:0\", shape=(1476,), dtype=int32), values=Tensor(\"gradient_tape/private__graph_conv_keras_model_8/graph_pool_16/Reshape_19:0\", shape=(1476, 64), dtype=float32), dense_shape=Tensor(\"gradient_tape/private__graph_conv_keras_model_8/graph_pool_16/Cast_6:0\", shape=(2,), dtype=int32))) to a dense Tensor of unknown shape. This may consume a large amount of memory.\n",
      "  warnings.warn(\n",
      "/scratch/brown/kamstut/tdm/apps/jupyter/kernels/llnl/.venv/lib/python3.9/site-packages/tensorflow/python/framework/indexed_slices.py:447: UserWarning: Converting sparse IndexedSlices(IndexedSlices(indices=Tensor(\"gradient_tape/private__graph_conv_keras_model_8/graph_pool_16/Reshape_23:0\", shape=(236,), dtype=int32), values=Tensor(\"gradient_tape/private__graph_conv_keras_model_8/graph_pool_16/Reshape_22:0\", shape=(236, 64), dtype=float32), dense_shape=Tensor(\"gradient_tape/private__graph_conv_keras_model_8/graph_pool_16/Cast_7:0\", shape=(2,), dtype=int32))) to a dense Tensor of unknown shape. This may consume a large amount of memory.\n",
      "  warnings.warn(\n",
      "/scratch/brown/kamstut/tdm/apps/jupyter/kernels/llnl/.venv/lib/python3.9/site-packages/tensorflow/python/framework/indexed_slices.py:447: UserWarning: Converting sparse IndexedSlices(IndexedSlices(indices=Tensor(\"gradient_tape/private__graph_conv_keras_model_8/graph_pool_17/Reshape_14:0\", shape=(None,), dtype=int32), values=Tensor(\"gradient_tape/private__graph_conv_keras_model_8/graph_pool_17/Reshape_13:0\", shape=(None, 64), dtype=float32), dense_shape=Tensor(\"gradient_tape/private__graph_conv_keras_model_8/graph_pool_17/Cast_4:0\", shape=(2,), dtype=int32))) to a dense Tensor of unknown shape. This may consume a large amount of memory.\n",
      "  warnings.warn(\n",
      "/scratch/brown/kamstut/tdm/apps/jupyter/kernels/llnl/.venv/lib/python3.9/site-packages/tensorflow/python/framework/indexed_slices.py:447: UserWarning: Converting sparse IndexedSlices(IndexedSlices(indices=Tensor(\"gradient_tape/private__graph_conv_keras_model_8/graph_pool_17/Reshape_17:0\", shape=(None,), dtype=int32), values=Tensor(\"gradient_tape/private__graph_conv_keras_model_8/graph_pool_17/Reshape_16:0\", shape=(None, 64), dtype=float32), dense_shape=Tensor(\"gradient_tape/private__graph_conv_keras_model_8/graph_pool_17/Cast_5:0\", shape=(2,), dtype=int32))) to a dense Tensor of unknown shape. This may consume a large amount of memory.\n",
      "  warnings.warn(\n",
      "/scratch/brown/kamstut/tdm/apps/jupyter/kernels/llnl/.venv/lib/python3.9/site-packages/tensorflow/python/framework/indexed_slices.py:447: UserWarning: Converting sparse IndexedSlices(IndexedSlices(indices=Tensor(\"gradient_tape/private__graph_conv_keras_model_8/graph_pool_17/Reshape_20:0\", shape=(None,), dtype=int32), values=Tensor(\"gradient_tape/private__graph_conv_keras_model_8/graph_pool_17/Reshape_19:0\", shape=(None, 64), dtype=float32), dense_shape=Tensor(\"gradient_tape/private__graph_conv_keras_model_8/graph_pool_17/Cast_6:0\", shape=(2,), dtype=int32))) to a dense Tensor of unknown shape. This may consume a large amount of memory.\n",
      "  warnings.warn(\n",
      "/scratch/brown/kamstut/tdm/apps/jupyter/kernels/llnl/.venv/lib/python3.9/site-packages/tensorflow/python/framework/indexed_slices.py:447: UserWarning: Converting sparse IndexedSlices(IndexedSlices(indices=Tensor(\"gradient_tape/private__graph_conv_keras_model_8/graph_pool_17/Reshape_23:0\", shape=(None,), dtype=int32), values=Tensor(\"gradient_tape/private__graph_conv_keras_model_8/graph_pool_17/Reshape_22:0\", shape=(None, 64), dtype=float32), dense_shape=Tensor(\"gradient_tape/private__graph_conv_keras_model_8/graph_pool_17/Cast_7:0\", shape=(2,), dtype=int32))) to a dense Tensor of unknown shape. This may consume a large amount of memory.\n",
      "  warnings.warn(\n",
      "/scratch/brown/kamstut/tdm/apps/jupyter/kernels/llnl/.venv/lib/python3.9/site-packages/tensorflow/python/framework/indexed_slices.py:447: UserWarning: Converting sparse IndexedSlices(IndexedSlices(indices=Tensor(\"gradient_tape/private__graph_conv_keras_model_8/graph_conv_17/Reshape_11:0\", shape=(None,), dtype=int32), values=Tensor(\"gradient_tape/private__graph_conv_keras_model_8/graph_conv_17/Reshape_10:0\", shape=(None, 64), dtype=float32), dense_shape=Tensor(\"gradient_tape/private__graph_conv_keras_model_8/graph_conv_17/Cast:0\", shape=(2,), dtype=int32))) to a dense Tensor of unknown shape. This may consume a large amount of memory.\n",
      "  warnings.warn(\n",
      "/scratch/brown/kamstut/tdm/apps/jupyter/kernels/llnl/.venv/lib/python3.9/site-packages/tensorflow/python/framework/indexed_slices.py:447: UserWarning: Converting sparse IndexedSlices(IndexedSlices(indices=Tensor(\"gradient_tape/private__graph_conv_keras_model_8/graph_conv_17/Reshape_13:0\", shape=(None,), dtype=int32), values=Tensor(\"gradient_tape/private__graph_conv_keras_model_8/graph_conv_17/Reshape_12:0\", shape=(None, 64), dtype=float32), dense_shape=Tensor(\"gradient_tape/private__graph_conv_keras_model_8/graph_conv_17/Cast_1:0\", shape=(2,), dtype=int32))) to a dense Tensor of unknown shape. This may consume a large amount of memory.\n",
      "  warnings.warn(\n",
      "/scratch/brown/kamstut/tdm/apps/jupyter/kernels/llnl/.venv/lib/python3.9/site-packages/tensorflow/python/framework/indexed_slices.py:447: UserWarning: Converting sparse IndexedSlices(IndexedSlices(indices=Tensor(\"gradient_tape/private__graph_conv_keras_model_8/graph_conv_17/Reshape_15:0\", shape=(None,), dtype=int32), values=Tensor(\"gradient_tape/private__graph_conv_keras_model_8/graph_conv_17/Reshape_14:0\", shape=(None, 64), dtype=float32), dense_shape=Tensor(\"gradient_tape/private__graph_conv_keras_model_8/graph_conv_17/Cast_2:0\", shape=(2,), dtype=int32))) to a dense Tensor of unknown shape. This may consume a large amount of memory.\n",
      "  warnings.warn(\n",
      "/scratch/brown/kamstut/tdm/apps/jupyter/kernels/llnl/.venv/lib/python3.9/site-packages/tensorflow/python/framework/indexed_slices.py:447: UserWarning: Converting sparse IndexedSlices(IndexedSlices(indices=Tensor(\"gradient_tape/private__graph_conv_keras_model_8/graph_conv_17/Reshape_17:0\", shape=(None,), dtype=int32), values=Tensor(\"gradient_tape/private__graph_conv_keras_model_8/graph_conv_17/Reshape_16:0\", shape=(None, 64), dtype=float32), dense_shape=Tensor(\"gradient_tape/private__graph_conv_keras_model_8/graph_conv_17/Cast_3:0\", shape=(2,), dtype=int32))) to a dense Tensor of unknown shape. This may consume a large amount of memory.\n",
      "  warnings.warn(\n",
      "/scratch/brown/kamstut/tdm/apps/jupyter/kernels/llnl/.venv/lib/python3.9/site-packages/tensorflow/python/framework/indexed_slices.py:447: UserWarning: Converting sparse IndexedSlices(IndexedSlices(indices=Tensor(\"gradient_tape/private__graph_conv_keras_model_8/graph_pool_16/Reshape_14:0\", shape=(None,), dtype=int32), values=Tensor(\"gradient_tape/private__graph_conv_keras_model_8/graph_pool_16/Reshape_13:0\", shape=(None, 64), dtype=float32), dense_shape=Tensor(\"gradient_tape/private__graph_conv_keras_model_8/graph_pool_16/Cast_4:0\", shape=(2,), dtype=int32))) to a dense Tensor of unknown shape. This may consume a large amount of memory.\n",
      "  warnings.warn(\n",
      "/scratch/brown/kamstut/tdm/apps/jupyter/kernels/llnl/.venv/lib/python3.9/site-packages/tensorflow/python/framework/indexed_slices.py:447: UserWarning: Converting sparse IndexedSlices(IndexedSlices(indices=Tensor(\"gradient_tape/private__graph_conv_keras_model_8/graph_pool_16/Reshape_17:0\", shape=(None,), dtype=int32), values=Tensor(\"gradient_tape/private__graph_conv_keras_model_8/graph_pool_16/Reshape_16:0\", shape=(None, 64), dtype=float32), dense_shape=Tensor(\"gradient_tape/private__graph_conv_keras_model_8/graph_pool_16/Cast_5:0\", shape=(2,), dtype=int32))) to a dense Tensor of unknown shape. This may consume a large amount of memory.\n",
      "  warnings.warn(\n",
      "/scratch/brown/kamstut/tdm/apps/jupyter/kernels/llnl/.venv/lib/python3.9/site-packages/tensorflow/python/framework/indexed_slices.py:447: UserWarning: Converting sparse IndexedSlices(IndexedSlices(indices=Tensor(\"gradient_tape/private__graph_conv_keras_model_8/graph_pool_16/Reshape_20:0\", shape=(None,), dtype=int32), values=Tensor(\"gradient_tape/private__graph_conv_keras_model_8/graph_pool_16/Reshape_19:0\", shape=(None, 64), dtype=float32), dense_shape=Tensor(\"gradient_tape/private__graph_conv_keras_model_8/graph_pool_16/Cast_6:0\", shape=(2,), dtype=int32))) to a dense Tensor of unknown shape. This may consume a large amount of memory.\n",
      "  warnings.warn(\n",
      "/scratch/brown/kamstut/tdm/apps/jupyter/kernels/llnl/.venv/lib/python3.9/site-packages/tensorflow/python/framework/indexed_slices.py:447: UserWarning: Converting sparse IndexedSlices(IndexedSlices(indices=Tensor(\"gradient_tape/private__graph_conv_keras_model_8/graph_pool_16/Reshape_23:0\", shape=(None,), dtype=int32), values=Tensor(\"gradient_tape/private__graph_conv_keras_model_8/graph_pool_16/Reshape_22:0\", shape=(None, 64), dtype=float32), dense_shape=Tensor(\"gradient_tape/private__graph_conv_keras_model_8/graph_pool_16/Cast_7:0\", shape=(2,), dtype=int32))) to a dense Tensor of unknown shape. This may consume a large amount of memory.\n",
      "  warnings.warn(\n",
      "2021-11-05 01:21:50,938 Epoch 0: training r2_score = -0.001, validation r2_score = -0.250, test r2_score = 0.046\n",
      "2021-11-05 01:21:56,442 Epoch 1: training r2_score = 0.283, validation r2_score = 0.016, test r2_score = 0.184\n",
      "2021-11-05 01:22:01,130 Epoch 2: training r2_score = 0.420, validation r2_score = 0.151, test r2_score = 0.322\n",
      "2021-11-05 01:22:05,706 Epoch 3: training r2_score = 0.487, validation r2_score = 0.111, test r2_score = 0.223\n",
      "2021-11-05 01:22:10,105 Epoch 4: training r2_score = 0.531, validation r2_score = 0.324, test r2_score = 0.374\n",
      "2021-11-05 01:22:14,620 Epoch 5: training r2_score = 0.507, validation r2_score = 0.264, test r2_score = 0.313\n",
      "2021-11-05 01:22:19,213 Epoch 6: training r2_score = 0.527, validation r2_score = 0.309, test r2_score = 0.318\n",
      "2021-11-05 01:22:23,649 Epoch 7: training r2_score = 0.546, validation r2_score = 0.319, test r2_score = 0.327\n",
      "2021-11-05 01:22:28,098 Epoch 8: training r2_score = 0.598, validation r2_score = 0.332, test r2_score = 0.342\n",
      "2021-11-05 01:22:32,548 Epoch 9: training r2_score = 0.598, validation r2_score = 0.269, test r2_score = 0.300\n",
      "2021-11-05 01:22:37,023 Epoch 10: training r2_score = 0.623, validation r2_score = 0.309, test r2_score = 0.360\n",
      "2021-11-05 01:22:41,454 Epoch 11: training r2_score = 0.649, validation r2_score = 0.387, test r2_score = 0.411\n",
      "2021-11-05 01:22:46,019 Epoch 12: training r2_score = 0.656, validation r2_score = 0.384, test r2_score = 0.418\n",
      "2021-11-05 01:22:50,387 Epoch 13: training r2_score = 0.648, validation r2_score = 0.341, test r2_score = 0.402\n",
      "2021-11-05 01:22:54,824 Epoch 14: training r2_score = 0.688, validation r2_score = 0.396, test r2_score = 0.393\n",
      "2021-11-05 01:22:59,364 Epoch 15: training r2_score = 0.673, validation r2_score = 0.286, test r2_score = 0.352\n",
      "2021-11-05 01:23:03,813 Epoch 16: training r2_score = 0.698, validation r2_score = 0.379, test r2_score = 0.410\n",
      "2021-11-05 01:23:08,280 Epoch 17: training r2_score = 0.684, validation r2_score = 0.361, test r2_score = 0.397\n",
      "2021-11-05 01:23:12,713 Epoch 18: training r2_score = 0.720, validation r2_score = 0.403, test r2_score = 0.412\n",
      "2021-11-05 01:23:17,727 Epoch 19: training r2_score = 0.720, validation r2_score = 0.425, test r2_score = 0.399\n",
      "2021-11-05 01:23:24,275 Epoch 20: training r2_score = 0.711, validation r2_score = 0.345, test r2_score = 0.384\n",
      "2021-11-05 01:23:28,747 Epoch 21: training r2_score = 0.716, validation r2_score = 0.310, test r2_score = 0.343\n",
      "2021-11-05 01:23:33,185 Epoch 22: training r2_score = 0.749, validation r2_score = 0.426, test r2_score = 0.405\n",
      "2021-11-05 01:23:37,784 Epoch 23: training r2_score = 0.720, validation r2_score = 0.411, test r2_score = 0.377\n",
      "2021-11-05 01:23:42,222 Epoch 24: training r2_score = 0.730, validation r2_score = 0.468, test r2_score = 0.420\n",
      "2021-11-05 01:23:46,726 Epoch 25: training r2_score = 0.764, validation r2_score = 0.393, test r2_score = 0.390\n",
      "2021-11-05 01:23:51,153 Epoch 26: training r2_score = 0.756, validation r2_score = 0.369, test r2_score = 0.355\n",
      "2021-11-05 01:23:55,599 Epoch 27: training r2_score = 0.755, validation r2_score = 0.401, test r2_score = 0.365\n",
      "2021-11-05 01:23:59,995 Epoch 28: training r2_score = 0.765, validation r2_score = 0.441, test r2_score = 0.426\n",
      "2021-11-05 01:24:04,455 Epoch 29: training r2_score = 0.745, validation r2_score = 0.395, test r2_score = 0.390\n",
      "2021-11-05 01:24:08,881 Epoch 30: training r2_score = 0.758, validation r2_score = 0.363, test r2_score = 0.358\n",
      "2021-11-05 01:24:13,362 Epoch 31: training r2_score = 0.773, validation r2_score = 0.406, test r2_score = 0.417\n",
      "2021-11-05 01:24:17,784 Epoch 32: training r2_score = 0.769, validation r2_score = 0.407, test r2_score = 0.397\n",
      "2021-11-05 01:24:22,247 Epoch 33: training r2_score = 0.764, validation r2_score = 0.356, test r2_score = 0.387\n",
      "2021-11-05 01:24:26,676 Epoch 34: training r2_score = 0.777, validation r2_score = 0.409, test r2_score = 0.424\n",
      "2021-11-05 01:24:31,109 Epoch 35: training r2_score = 0.779, validation r2_score = 0.462, test r2_score = 0.416\n",
      "2021-11-05 01:24:35,515 Epoch 36: training r2_score = 0.788, validation r2_score = 0.402, test r2_score = 0.394\n",
      "2021-11-05 01:24:39,955 Epoch 37: training r2_score = 0.784, validation r2_score = 0.456, test r2_score = 0.412\n",
      "2021-11-05 01:24:44,400 Epoch 38: training r2_score = 0.788, validation r2_score = 0.417, test r2_score = 0.383\n",
      "2021-11-05 01:24:48,827 Epoch 39: training r2_score = 0.791, validation r2_score = 0.410, test r2_score = 0.391\n",
      "2021-11-05 01:24:53,250 Epoch 40: training r2_score = 0.786, validation r2_score = 0.423, test r2_score = 0.367\n",
      "2021-11-05 01:24:57,665 Epoch 41: training r2_score = 0.786, validation r2_score = 0.326, test r2_score = 0.343\n",
      "2021-11-05 01:25:02,090 Epoch 42: training r2_score = 0.806, validation r2_score = 0.442, test r2_score = 0.409\n",
      "2021-11-05 01:25:06,539 Epoch 43: training r2_score = 0.794, validation r2_score = 0.421, test r2_score = 0.405\n",
      "2021-11-05 01:25:10,953 Epoch 44: training r2_score = 0.800, validation r2_score = 0.402, test r2_score = 0.401\n",
      "2021-11-05 01:25:15,417 Epoch 45: training r2_score = 0.798, validation r2_score = 0.428, test r2_score = 0.427\n",
      "2021-11-05 01:25:20,001 Epoch 46: training r2_score = 0.806, validation r2_score = 0.386, test r2_score = 0.394\n",
      "2021-11-05 01:25:24,853 Epoch 47: training r2_score = 0.814, validation r2_score = 0.422, test r2_score = 0.419\n",
      "2021-11-05 01:25:29,911 Epoch 48: training r2_score = 0.827, validation r2_score = 0.401, test r2_score = 0.402\n",
      "2021-11-05 01:25:34,914 Epoch 49: training r2_score = 0.816, validation r2_score = 0.449, test r2_score = 0.442\n",
      "2021-11-05 01:25:39,877 Epoch 50: training r2_score = 0.816, validation r2_score = 0.396, test r2_score = 0.384\n",
      "2021-11-05 01:25:44,782 Epoch 51: training r2_score = 0.819, validation r2_score = 0.423, test r2_score = 0.394\n",
      "2021-11-05 01:25:50,243 Epoch 52: training r2_score = 0.818, validation r2_score = 0.371, test r2_score = 0.363\n",
      "2021-11-05 01:25:55,408 Epoch 53: training r2_score = 0.818, validation r2_score = 0.428, test r2_score = 0.391\n",
      "2021-11-05 01:26:00,564 Epoch 54: training r2_score = 0.825, validation r2_score = 0.438, test r2_score = 0.429\n",
      "2021-11-05 01:26:05,381 Epoch 55: training r2_score = 0.811, validation r2_score = 0.347, test r2_score = 0.357\n",
      "2021-11-05 01:26:05,384 No improvement after 30 epochs, stopping training\n",
      "/scratch/brown/kamstut/tdm/apps/jupyter/kernels/llnl/.venv/lib/python3.9/site-packages/atomsci/ddm/pipeline/model_wrapper.py:1064: YAMLLoadWarning: calling yaml.load() without Loader=... is deprecated, as the default Loader is unsafe. Please read https://msg.pyyaml.org/load for full details.\n",
      "  chkpt_dict = yaml.load(chkpt_in.read())\n",
      "2021-11-05 01:26:05,745 Saved model files to '/home/rwilfong/ATOM/opioid/mod_OPRK1/NN_graphconv_scaffold_regression/d0a06489-d683-4492-863e-2aa5e0a808ca/best_model'\n",
      "2021-11-05 01:26:05,747 Best model from epoch 24 saved to /home/rwilfong/ATOM/opioid/mod_OPRK1/NN_graphconv_scaffold_regression/d0a06489-d683-4492-863e-2aa5e0a808ca/best_model\n",
      "2021-11-05 01:26:05,880 Wrote model tarball to /home/rwilfong/ATOM/opioid/mod_OPRK1_model_d0a06489-d683-4492-863e-2aa5e0a808ca.tar.gz\n"
     ]
    }
   ],
   "source": [
    "train_model.train_model()"
   ]
  },
  {
   "cell_type": "code",
   "execution_count": 69,
   "id": "c63c9c06-c956-44d4-9e3c-e23a3e7ef73f",
   "metadata": {},
   "outputs": [
    {
     "name": "stdout",
     "output_type": "stream",
     "text": [
      "R2 score of validation set: 0.468\n"
     ]
    }
   ],
   "source": [
    "pred_data = train_model.model_wrapper.get_perf_data(subset=\"valid\", epoch_label=\"best\")\n",
    "pred_results = pred_data.get_prediction_results()\n",
    "print(f\"R2 score of validation set: {pred_results['r2_score']:.3f}\")"
   ]
  },
  {
   "cell_type": "code",
   "execution_count": null,
   "id": "1074772e-4efc-426b-8526-bd8824f4e0fa",
   "metadata": {},
   "outputs": [],
   "source": []
  },
  {
   "cell_type": "markdown",
   "id": "8249421f-01f4-4b94-8262-3e36b671c720",
   "metadata": {},
   "source": [
    "mod_OPRK1_train_valid_test_scaffold_90562095-97fd-49cd-9b6b-797bfe313af0"
   ]
  }
 ],
 "metadata": {
  "kernelspec": {
   "display_name": "llnl",
   "language": "python",
   "name": "tdm-brown-scratch-llnl"
  },
  "language_info": {
   "codemirror_mode": {
    "name": "ipython",
    "version": 3
   },
   "file_extension": ".py",
   "mimetype": "text/x-python",
   "name": "python",
   "nbconvert_exporter": "python",
   "pygments_lexer": "ipython3",
   "version": "3.9.6"
  }
 },
 "nbformat": 4,
 "nbformat_minor": 5
}
